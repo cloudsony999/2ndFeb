{
 "cells": [
  {
   "cell_type": "code",
   "execution_count": 3,
   "id": "c7da0e21-d6db-4594-ad84-d3cfe36c286d",
   "metadata": {},
   "outputs": [],
   "source": [
    "a=[1,2,3,4,4,5]"
   ]
  },
  {
   "cell_type": "code",
   "execution_count": 4,
   "id": "8e15e261-2f5b-4dbf-9d38-2c011940aede",
   "metadata": {},
   "outputs": [
    {
     "data": {
      "text/plain": [
       "[1, 2, 3, 4, 4, 5]"
      ]
     },
     "execution_count": 4,
     "metadata": {},
     "output_type": "execute_result"
    }
   ],
   "source": [
    "a"
   ]
  },
  {
   "cell_type": "code",
   "execution_count": 5,
   "id": "7f2523e1-e5cf-439a-80f4-6b6bfdede90a",
   "metadata": {},
   "outputs": [
    {
     "name": "stdout",
     "output_type": "stream",
     "text": [
      "1\n",
      "2\n",
      "3\n",
      "4\n",
      "4\n",
      "5\n"
     ]
    }
   ],
   "source": [
    "for i in a:\n",
    "    print(i)"
   ]
  },
  {
   "cell_type": "code",
   "execution_count": 6,
   "id": "c9edb628-d6fa-4564-a76f-d5697b8daab7",
   "metadata": {},
   "outputs": [],
   "source": [
    "def test(a,b):\n",
    "    return a+b"
   ]
  },
  {
   "cell_type": "code",
   "execution_count": 7,
   "id": "a4c0c0a4-5711-4bd9-afe8-4260f0629fda",
   "metadata": {},
   "outputs": [
    {
     "data": {
      "text/plain": [
       "33"
      ]
     },
     "execution_count": 7,
     "metadata": {},
     "output_type": "execute_result"
    }
   ],
   "source": [
    "test(11,22)"
   ]
  },
  {
   "cell_type": "code",
   "execution_count": 8,
   "id": "c5803ba7-d794-4065-9cbc-c55592a25939",
   "metadata": {},
   "outputs": [],
   "source": [
    "x=[['a','b','c'],[1.2,9.8,7.6],[True,False,True]]"
   ]
  },
  {
   "cell_type": "code",
   "execution_count": 9,
   "id": "034503c2-1ff9-4287-a1e2-6204e0544126",
   "metadata": {},
   "outputs": [
    {
     "data": {
      "text/plain": [
       "[['a', 'b', 'c'], [1.2, 9.8, 7.6], [True, False, True]]"
      ]
     },
     "execution_count": 9,
     "metadata": {},
     "output_type": "execute_result"
    }
   ],
   "source": [
    "x"
   ]
  },
  {
   "cell_type": "code",
   "execution_count": 10,
   "id": "10a60462-8d35-4c9b-9387-b7fd608fb7f6",
   "metadata": {},
   "outputs": [
    {
     "data": {
      "text/plain": [
       "['a', 'b', 'c']"
      ]
     },
     "execution_count": 10,
     "metadata": {},
     "output_type": "execute_result"
    }
   ],
   "source": [
    "x[0]"
   ]
  },
  {
   "cell_type": "code",
   "execution_count": 11,
   "id": "ad134ef5-eccc-4311-a87d-ed50f92b4556",
   "metadata": {},
   "outputs": [
    {
     "name": "stdout",
     "output_type": "stream",
     "text": [
      "a\n",
      "b\n",
      "c\n"
     ]
    }
   ],
   "source": [
    "for i in x[0]:\n",
    "    print(i)"
   ]
  },
  {
   "cell_type": "code",
   "execution_count": 12,
   "id": "44303725-9f28-4805-8b4a-11b7a7e58927",
   "metadata": {},
   "outputs": [
    {
     "data": {
      "text/plain": [
       "['a', 'b', 'c']"
      ]
     },
     "execution_count": 12,
     "metadata": {},
     "output_type": "execute_result"
    }
   ],
   "source": [
    "x[0]"
   ]
  },
  {
   "cell_type": "code",
   "execution_count": 13,
   "id": "85fe0c6b-af3a-4e60-9dd7-a3f731a9fc3d",
   "metadata": {},
   "outputs": [
    {
     "data": {
      "text/plain": [
       "['a', 'b', 'c', 'a', 'b', 'c', 'a', 'b', 'c', 'a', 'b', 'c', 'a', 'b', 'c']"
      ]
     },
     "execution_count": 13,
     "metadata": {},
     "output_type": "execute_result"
    }
   ],
   "source": [
    "x[0]*5"
   ]
  },
  {
   "cell_type": "code",
   "execution_count": 14,
   "id": "b5180434-0f5a-447f-82e6-39b9df534a7b",
   "metadata": {},
   "outputs": [],
   "source": [
    "d=x[0]*5"
   ]
  },
  {
   "cell_type": "code",
   "execution_count": 15,
   "id": "8259c91f-7659-4b67-85e8-a38b7e91a9fe",
   "metadata": {},
   "outputs": [
    {
     "data": {
      "text/plain": [
       "['a', 'b', 'c', 'a', 'b', 'c', 'a', 'b', 'c', 'a', 'b', 'c', 'a', 'b', 'c']"
      ]
     },
     "execution_count": 15,
     "metadata": {},
     "output_type": "execute_result"
    }
   ],
   "source": [
    "d"
   ]
  },
  {
   "cell_type": "code",
   "execution_count": 16,
   "id": "c3d80446-4e22-436f-b1f0-729f452b8a12",
   "metadata": {},
   "outputs": [
    {
     "data": {
      "text/plain": [
       "list"
      ]
     },
     "execution_count": 16,
     "metadata": {},
     "output_type": "execute_result"
    }
   ],
   "source": [
    "type(d)"
   ]
  },
  {
   "cell_type": "code",
   "execution_count": 17,
   "id": "c2eac096-526b-4d21-a10c-45d7e57cbf01",
   "metadata": {},
   "outputs": [
    {
     "name": "stdout",
     "output_type": "stream",
     "text": [
      "<class 'list'>\n"
     ]
    }
   ],
   "source": [
    "print(type(d))"
   ]
  },
  {
   "cell_type": "code",
   "execution_count": 18,
   "id": "183f39be-aa77-4f18-b5c5-9a23d7eeb57c",
   "metadata": {},
   "outputs": [
    {
     "data": {
      "text/plain": [
       "['a', 'b', 'c', 'a', 'b', 'c', 'a', 'b', 'c', 'a', 'b', 'c', 'a', 'b', 'c']"
      ]
     },
     "execution_count": 18,
     "metadata": {},
     "output_type": "execute_result"
    }
   ],
   "source": [
    "d"
   ]
  },
  {
   "cell_type": "code",
   "execution_count": 19,
   "id": "b8e97dd5-bc1d-4bfb-bd90-e3999c3404fb",
   "metadata": {},
   "outputs": [
    {
     "data": {
      "text/plain": [
       "['a', 'b', 'c', 'a', 'b', 'c', 'a', 'b', 'c', 'a', 'b', 'c', 'a', 'b', 'c']"
      ]
     },
     "execution_count": 19,
     "metadata": {},
     "output_type": "execute_result"
    }
   ],
   "source": [
    "d[:]"
   ]
  },
  {
   "cell_type": "code",
   "execution_count": 20,
   "id": "191a854b-9f82-4ac2-8de5-19b4a838cfb7",
   "metadata": {},
   "outputs": [
    {
     "data": {
      "text/plain": [
       "['b', 'b', 'b']"
      ]
     },
     "execution_count": 20,
     "metadata": {},
     "output_type": "execute_result"
    }
   ],
   "source": [
    "d[1:10:3]"
   ]
  },
  {
   "cell_type": "code",
   "execution_count": 21,
   "id": "1878e33c-c212-48c7-a7b4-63dd4ddac239",
   "metadata": {},
   "outputs": [
    {
     "data": {
      "text/plain": [
       "['a', 'b', 'c', 'a', 'b', 'c', 'a', 'b', 'c']"
      ]
     },
     "execution_count": 21,
     "metadata": {},
     "output_type": "execute_result"
    }
   ],
   "source": [
    "d[:9]"
   ]
  },
  {
   "cell_type": "code",
   "execution_count": 22,
   "id": "0eb1b7b9-c1e4-4472-bb65-ea4e47fc4704",
   "metadata": {},
   "outputs": [
    {
     "data": {
      "text/plain": [
       "['a', 'b', 'c', 'a', 'b', 'c']"
      ]
     },
     "execution_count": 22,
     "metadata": {},
     "output_type": "execute_result"
    }
   ],
   "source": [
    "d[9:]"
   ]
  },
  {
   "cell_type": "code",
   "execution_count": 23,
   "id": "ec741c6d-7207-4c76-88e4-c6498e72fbb4",
   "metadata": {},
   "outputs": [
    {
     "data": {
      "text/plain": [
       "['c', 'b']"
      ]
     },
     "execution_count": 23,
     "metadata": {},
     "output_type": "execute_result"
    }
   ],
   "source": [
    "d[5::5]"
   ]
  },
  {
   "cell_type": "code",
   "execution_count": 24,
   "id": "40a93b11-6c61-4691-b34c-41462e27b2b5",
   "metadata": {},
   "outputs": [
    {
     "data": {
      "text/plain": [
       "True"
      ]
     },
     "execution_count": 24,
     "metadata": {},
     "output_type": "execute_result"
    }
   ],
   "source": [
    "'a' in d"
   ]
  },
  {
   "cell_type": "code",
   "execution_count": 25,
   "id": "e14b26ad-b104-43b0-a8fe-fc4d94274904",
   "metadata": {},
   "outputs": [],
   "source": [
    "del(d[8])"
   ]
  },
  {
   "cell_type": "code",
   "execution_count": 26,
   "id": "2c90b229-0b6f-4547-8f82-20d96cd11632",
   "metadata": {},
   "outputs": [
    {
     "data": {
      "text/plain": [
       "['a', 'b', 'c', 'a', 'b', 'c', 'a', 'b', 'a', 'b', 'c', 'a', 'b', 'c']"
      ]
     },
     "execution_count": 26,
     "metadata": {},
     "output_type": "execute_result"
    }
   ],
   "source": [
    "d"
   ]
  },
  {
   "cell_type": "code",
   "execution_count": 27,
   "id": "fdf84e11-6e7d-49cc-85e3-32fe68b1e108",
   "metadata": {},
   "outputs": [],
   "source": [
    "del(d[:5])"
   ]
  },
  {
   "cell_type": "code",
   "execution_count": 28,
   "id": "e119eb30-ed05-40fb-9ac8-922350dc0bd8",
   "metadata": {},
   "outputs": [
    {
     "data": {
      "text/plain": [
       "['c', 'a', 'b', 'a', 'b', 'c', 'a', 'b', 'c']"
      ]
     },
     "execution_count": 28,
     "metadata": {},
     "output_type": "execute_result"
    }
   ],
   "source": [
    "d"
   ]
  },
  {
   "cell_type": "code",
   "execution_count": 29,
   "id": "e488e417-d900-4c1d-a3c7-969494646dc3",
   "metadata": {},
   "outputs": [],
   "source": [
    "s=[11,55,8,1,98,87,67]"
   ]
  },
  {
   "cell_type": "code",
   "execution_count": 30,
   "id": "f7348b99-54d4-4b0e-b9ed-67bd2d3ab35d",
   "metadata": {},
   "outputs": [
    {
     "data": {
      "text/plain": [
       "[11, 55, 8, 1, 98, 87, 67]"
      ]
     },
     "execution_count": 30,
     "metadata": {},
     "output_type": "execute_result"
    }
   ],
   "source": [
    "s"
   ]
  },
  {
   "cell_type": "code",
   "execution_count": 31,
   "id": "3abe859f-e4da-46a9-ba99-8050209dab51",
   "metadata": {},
   "outputs": [],
   "source": [
    "s.append(100)"
   ]
  },
  {
   "cell_type": "code",
   "execution_count": 32,
   "id": "8fb32d8c-97dc-48c8-b971-db787036b933",
   "metadata": {},
   "outputs": [
    {
     "data": {
      "text/plain": [
       "[11, 55, 8, 1, 98, 87, 67, 100]"
      ]
     },
     "execution_count": 32,
     "metadata": {},
     "output_type": "execute_result"
    }
   ],
   "source": [
    "s"
   ]
  },
  {
   "cell_type": "code",
   "execution_count": 33,
   "id": "3fe4215c-6413-4c3c-a579-ddf8e4e407fb",
   "metadata": {},
   "outputs": [],
   "source": [
    "c=[7,9,6]"
   ]
  },
  {
   "cell_type": "code",
   "execution_count": 34,
   "id": "fb540758-1e2f-49b0-beb7-6cbad8a936ab",
   "metadata": {},
   "outputs": [],
   "source": [
    "s.extend(c)"
   ]
  },
  {
   "cell_type": "code",
   "execution_count": 35,
   "id": "b9fe0198-9693-4b89-8cac-678be70de98c",
   "metadata": {},
   "outputs": [
    {
     "data": {
      "text/plain": [
       "[11, 55, 8, 1, 98, 87, 67, 100, 7, 9, 6]"
      ]
     },
     "execution_count": 35,
     "metadata": {},
     "output_type": "execute_result"
    }
   ],
   "source": [
    "s"
   ]
  },
  {
   "cell_type": "code",
   "execution_count": 36,
   "id": "99348cf8-9729-42f7-a534-fc6f4e91028b",
   "metadata": {},
   "outputs": [],
   "source": [
    "s.sort()"
   ]
  },
  {
   "cell_type": "code",
   "execution_count": 37,
   "id": "60a9cf10-a569-41de-8f73-fd54889e01f4",
   "metadata": {},
   "outputs": [
    {
     "data": {
      "text/plain": [
       "[1, 6, 7, 8, 9, 11, 55, 67, 87, 98, 100]"
      ]
     },
     "execution_count": 37,
     "metadata": {},
     "output_type": "execute_result"
    }
   ],
   "source": [
    "s"
   ]
  },
  {
   "cell_type": "code",
   "execution_count": 38,
   "id": "e4300262-049e-4720-bcc9-e5e33c0d6e9f",
   "metadata": {},
   "outputs": [
    {
     "data": {
      "text/plain": [
       "100"
      ]
     },
     "execution_count": 38,
     "metadata": {},
     "output_type": "execute_result"
    }
   ],
   "source": [
    "s.pop()"
   ]
  },
  {
   "cell_type": "code",
   "execution_count": 39,
   "id": "b3d35e2b-0d42-4d66-a2df-61ef0ad22e18",
   "metadata": {},
   "outputs": [],
   "source": [
    "s.reverse()"
   ]
  },
  {
   "cell_type": "code",
   "execution_count": 40,
   "id": "85953f68-6b74-46a5-b74a-c053d26a1067",
   "metadata": {},
   "outputs": [
    {
     "data": {
      "text/plain": [
       "[98, 87, 67, 55, 11, 9, 8, 7, 6, 1]"
      ]
     },
     "execution_count": 40,
     "metadata": {},
     "output_type": "execute_result"
    }
   ],
   "source": [
    "s"
   ]
  },
  {
   "cell_type": "code",
   "execution_count": 41,
   "id": "43a619f3-b257-4a38-aa93-4156fcae4766",
   "metadata": {},
   "outputs": [],
   "source": [
    "s.append(876)"
   ]
  },
  {
   "cell_type": "code",
   "execution_count": 42,
   "id": "a217c1b9-3cb2-4e49-a5a0-253b0b1fcc00",
   "metadata": {},
   "outputs": [
    {
     "data": {
      "text/plain": [
       "[98, 87, 67, 55, 11, 9, 8, 7, 6, 1, 876]"
      ]
     },
     "execution_count": 42,
     "metadata": {},
     "output_type": "execute_result"
    }
   ],
   "source": [
    "s"
   ]
  },
  {
   "cell_type": "code",
   "execution_count": 43,
   "id": "1ebbd141-f627-41ce-92c4-39c540b155c2",
   "metadata": {},
   "outputs": [],
   "source": [
    "x=s.pop()"
   ]
  },
  {
   "cell_type": "code",
   "execution_count": 44,
   "id": "2e217738-f74d-4714-b36f-9ddec20ffd28",
   "metadata": {},
   "outputs": [
    {
     "data": {
      "text/plain": [
       "876"
      ]
     },
     "execution_count": 44,
     "metadata": {},
     "output_type": "execute_result"
    }
   ],
   "source": [
    "x"
   ]
  },
  {
   "cell_type": "code",
   "execution_count": 45,
   "id": "8c852382-829d-4162-88b4-d55517767c6f",
   "metadata": {},
   "outputs": [
    {
     "data": {
      "text/plain": [
       "[98, 87, 67, 55, 11, 9, 8, 7, 6, 1]"
      ]
     },
     "execution_count": 45,
     "metadata": {},
     "output_type": "execute_result"
    }
   ],
   "source": [
    "s"
   ]
  },
  {
   "cell_type": "code",
   "execution_count": 46,
   "id": "29ba37fd-8648-4ff3-a619-550a8996852b",
   "metadata": {},
   "outputs": [
    {
     "name": "stdout",
     "output_type": "stream",
     "text": [
      "Name: matplotlib\n",
      "Version: 3.8.2\n",
      "Summary: Python plotting package\n",
      "Home-page: https://matplotlib.org\n",
      "Author: John D. Hunter, Michael Droettboom\n",
      "Author-email: matplotlib-users@python.org\n",
      "License: PSF\n",
      "Location: C:\\Python312\\Lib\\site-packages\n",
      "Requires: contourpy, cycler, fonttools, kiwisolver, numpy, packaging, pillow, pyparsing, python-dateutil\n",
      "Required-by: seaborn, streamlit-faker\n",
      "Note: you may need to restart the kernel to use updated packages.\n"
     ]
    }
   ],
   "source": [
    "pip show matplotlib "
   ]
  },
  {
   "cell_type": "code",
   "execution_count": 47,
   "id": "e3d471ae-1d6c-4914-98a9-54ac6b3eef11",
   "metadata": {},
   "outputs": [],
   "source": [
    "import matplotlib.pyplot as plt"
   ]
  },
  {
   "cell_type": "code",
   "execution_count": 48,
   "id": "7499a8d5-8188-4688-a5a2-5ebd07aa7677",
   "metadata": {},
   "outputs": [],
   "source": [
    "x=10\n",
    "y=15"
   ]
  },
  {
   "cell_type": "code",
   "execution_count": 49,
   "id": "88b9a722-f0d8-4e4d-999f-117aac61dd9b",
   "metadata": {},
   "outputs": [
    {
     "data": {
      "image/png": "[encoded data removed]",
      "text/plain": [
       "<Figure size 640x480 with 1 Axes>"
      ]
     },
     "metadata": {},
     "output_type": "display_data"
    }
   ],
   "source": [
    "plt.plot(x,y)\n",
    "plt.show()"
   ]
  },
  {
   "cell_type": "code",
   "execution_count": 50,
   "id": "4880a1a0-23d1-4b28-b136-2b12ece4e1e2",
   "metadata": {},
   "outputs": [
    {
     "data": {
      "text/plain": [
       "[<matplotlib.lines.Line2D at 0x142f41d3110>]"
      ]
     },
     "execution_count": 50,
     "metadata": {},
     "output_type": "execute_result"
    },
    {
     "data": {
      "image/png": "[encoded data removed]",
      "text/plain": [
       "<Figure size 640x480 with 1 Axes>"
      ]
     },
     "metadata": {},
     "output_type": "display_data"
    }
   ],
   "source": [
    "plt.plot(x,y,'rx')"
   ]
  },
  {
   "cell_type": "code",
   "execution_count": 51,
   "id": "f8bf1c40-03c1-45e1-ae0d-bbec1dc56d4e",
   "metadata": {},
   "outputs": [
    {
     "data": {
      "text/plain": [
       "[<matplotlib.lines.Line2D at 0x142f41d2360>]"
      ]
     },
     "execution_count": 51,
     "metadata": {},
     "output_type": "execute_result"
    },
    {
     "data": {
      "image/png": "[encoded data removed]",
      "text/plain": [
       "<Figure size 640x480 with 1 Axes>"
      ]
     },
     "metadata": {},
     "output_type": "display_data"
    }
   ],
   "source": [
    "plt.plot(x,y,'gx')"
   ]
  },
  {
   "cell_type": "code",
   "execution_count": 52,
   "id": "c1dc2639-5ffa-4054-a9c0-a5ce4669136c",
   "metadata": {},
   "outputs": [
    {
     "data": {
      "text/plain": [
       "[<matplotlib.lines.Line2D at 0x142f4344770>]"
      ]
     },
     "execution_count": 52,
     "metadata": {},
     "output_type": "execute_result"
    },
    {
     "data": {
      "image/png": "[encoded data removed]",
      "text/plain": [
       "<Figure size 640x480 with 1 Axes>"
      ]
     },
     "metadata": {},
     "output_type": "display_data"
    }
   ],
   "source": [
    "plt.plot(x,y,'m.')"
   ]
  },
  {
   "cell_type": "code",
   "execution_count": 53,
   "id": "3b3267af-6043-4d8b-8f57-86da51fa6f31",
   "metadata": {},
   "outputs": [
    {
     "data": {
      "text/plain": [
       "[<matplotlib.lines.Line2D at 0x142f74f26f0>]"
      ]
     },
     "execution_count": 53,
     "metadata": {},
     "output_type": "execute_result"
    },
    {
     "data": {
      "image/png": "[encoded data removed]",
      "text/plain": [
       "<Figure size 640x480 with 1 Axes>"
      ]
     },
     "metadata": {},
     "output_type": "display_data"
    }
   ],
   "source": [
    "plt.plot(x,y,'mh')"
   ]
  },
  {
   "cell_type": "code",
   "execution_count": 54,
   "id": "e52d50a2-f671-44a3-b51c-766674c94356",
   "metadata": {},
   "outputs": [],
   "source": [
    "x=[10,20,30,40,50,60,70]"
   ]
  },
  {
   "cell_type": "code",
   "execution_count": 55,
   "id": "34475ec7-8958-4144-8689-def8a4c8dfe1",
   "metadata": {},
   "outputs": [],
   "source": [
    "y=[7,14,21,28,35,42,49]"
   ]
  },
  {
   "cell_type": "code",
   "execution_count": 56,
   "id": "003a67d9-dfd4-46c0-b6ab-2c4c108ca8c7",
   "metadata": {},
   "outputs": [
    {
     "data": {
      "text/plain": [
       "[<matplotlib.lines.Line2D at 0x142f7580230>]"
      ]
     },
     "execution_count": 56,
     "metadata": {},
     "output_type": "execute_result"
    },
    {
     "data": {
      "image/png": "[encoded data removed]",
      "text/plain": [
       "<Figure size 640x480 with 1 Axes>"
      ]
     },
     "metadata": {},
     "output_type": "display_data"
    }
   ],
   "source": [
    "plt.plot(x,y,'gs')"
   ]
  },
  {
   "cell_type": "code",
   "execution_count": 57,
   "id": "7f8f652a-4b5e-4da8-b46e-8ff761a85ebf",
   "metadata": {},
   "outputs": [
    {
     "data": {
      "text/plain": [
       "[<matplotlib.lines.Line2D at 0x142f759d550>]"
      ]
     },
     "execution_count": 57,
     "metadata": {},
     "output_type": "execute_result"
    },
    {
     "data": {
      "image/png": "[encoded data removed]",
      "text/plain": [
       "<Figure size 640x480 with 1 Axes>"
      ]
     },
     "metadata": {},
     "output_type": "display_data"
    }
   ],
   "source": [
    "plt.plot(x,y,'g')"
   ]
  },
  {
   "cell_type": "code",
   "execution_count": 58,
   "id": "53e4984f-8226-4d13-9007-5b95d19636c3",
   "metadata": {},
   "outputs": [
    {
     "data": {
      "text/plain": [
       "[<matplotlib.lines.Line2D at 0x142f7623920>]"
      ]
     },
     "execution_count": 58,
     "metadata": {},
     "output_type": "execute_result"
    },
    {
     "data": {
      "image/png": "[encoded data removed]",
      "text/plain": [
       "<Figure size 640x480 with 1 Axes>"
      ]
     },
     "metadata": {},
     "output_type": "display_data"
    }
   ],
   "source": [
    "plt.plot(x,y,'mo:')"
   ]
  },
  {
   "cell_type": "code",
   "execution_count": 59,
   "id": "61fd670b-fda7-4703-bf85-ae58d532f7f4",
   "metadata": {},
   "outputs": [
    {
     "ename": "NameError",
     "evalue": "name 'ply' is not defined",
     "output_type": "error",
     "traceback": [
      "\u001b[1;31m---------------------------------------------------------------------------\u001b[0m",
      "\u001b[1;31mNameError\u001b[0m                                 Traceback (most recent call last)",
      "Cell \u001b[1;32mIn[59], line 2\u001b[0m\n\u001b[0;32m      1\u001b[0m plt\u001b[38;5;241m.\u001b[39mxlabel(\u001b[38;5;124m'\u001b[39m\u001b[38;5;124mtemp in celcius\u001b[39m\u001b[38;5;124m'\u001b[39m)\n\u001b[1;32m----> 2\u001b[0m \u001b[43mply\u001b[49m\u001b[38;5;241m.\u001b[39mylabel(\u001b[38;5;124m'\u001b[39m\u001b[38;5;124mdistance\u001b[39m\u001b[38;5;124m'\u001b[39m)\n",
      "\u001b[1;31mNameError\u001b[0m: name 'ply' is not defined"
     ]
    },
    {
     "data": {
      "image/png": "[encoded data removed]",
      "text/plain": [
       "<Figure size 640x480 with 1 Axes>"
      ]
     },
     "metadata": {},
     "output_type": "display_data"
    }
   ],
   "source": [
    "plt.xlabel('temp in celcius')\n",
    "ply.ylabel('distance')"
   ]
  },
  {
   "cell_type": "code",
   "execution_count": null,
   "id": "882c1704-723d-4e8b-824e-71aec72e368d",
   "metadata": {},
   "outputs": [],
   "source": [
    "plt.xlabel('temp in celcius')\n",
    "plt.ylabel('distance')"
   ]
  },
  {
   "cell_type": "code",
   "execution_count": null,
   "id": "0fe0b354-7343-4262-b51e-a1ca8abf9a4f",
   "metadata": {},
   "outputs": [],
   "source": [
    "plt.title('ABC CORP')\n",
    "plt.xlabel('temp in celcius')\n",
    "plt.ylabel('distance')"
   ]
  },
  {
   "cell_type": "code",
   "execution_count": null,
   "id": "fcf70e2b-ead3-47dd-8b05-9e76996044b4",
   "metadata": {},
   "outputs": [],
   "source": [
    "def create_list():\n",
    "    return [11,22,33,44]"
   ]
  },
  {
   "cell_type": "code",
   "execution_count": null,
   "id": "8e75c80a-e128-4eb9-8a6c-32e4890f62a9",
   "metadata": {},
   "outputs": [],
   "source": [
    "def create_list_1():\n",
    "    return [21,32,43,54]"
   ]
  },
  {
   "cell_type": "code",
   "execution_count": null,
   "id": "84f13a32-10a4-4679-b5a4-2dd157e8c2c9",
   "metadata": {},
   "outputs": [],
   "source": [
    "x=create_list()\n",
    "y=create_list_1()"
   ]
  },
  {
   "cell_type": "code",
   "execution_count": null,
   "id": "90872182-2b4e-439c-9af9-42de686c026f",
   "metadata": {},
   "outputs": [],
   "source": [
    "plt.plot(x,y)"
   ]
  },
  {
   "cell_type": "code",
   "execution_count": null,
   "id": "93f5c4e0-2e93-4128-a48d-fac90425f5b6",
   "metadata": {},
   "outputs": [],
   "source": [
    "plt.plot(create_list(),create_list_1())"
   ]
  },
  {
   "cell_type": "code",
   "execution_count": null,
   "id": "d4b87023-ed2a-4925-9bca-084f0b87ac52",
   "metadata": {},
   "outputs": [],
   "source": [
    "from population import *"
   ]
  },
  {
   "cell_type": "code",
   "execution_count": null,
   "id": "fef4d8ae-38f5-44ac-a663-dc00cbf958bf",
   "metadata": {},
   "outputs": [],
   "source": [
    "plt.plot(x_data(),y_data())"
   ]
  },
  {
   "cell_type": "code",
   "execution_count": null,
   "id": "9908aa48-6279-4a7c-bfc3-0a0e1e21a38f",
   "metadata": {},
   "outputs": [],
   "source": [
    "plt.bar(x_data(),y_data())"
   ]
  },
  {
   "cell_type": "code",
   "execution_count": null,
   "id": "f046b664-9448-4258-a866-e74b85a9f811",
   "metadata": {},
   "outputs": [],
   "source": [
    "plt.bar(x_data(),y_data())"
   ]
  },
  {
   "cell_type": "code",
   "execution_count": null,
   "id": "88626ec9-2041-441f-a05b-c6d1c644f24b",
   "metadata": {},
   "outputs": [],
   "source": [
    "from population import *"
   ]
  },
  {
   "cell_type": "code",
   "execution_count": null,
   "id": "c3563ce7-a050-4c72-8da7-a3c4f0bfdc9d",
   "metadata": {},
   "outputs": [],
   "source": [
    "plt.bar(x_data(),y_data())"
   ]
  },
  {
   "cell_type": "code",
   "execution_count": null,
   "id": "22ce9a7f-330f-45c0-ac37-144165d142ee",
   "metadata": {},
   "outputs": [],
   "source": []
  },
  {
   "cell_type": "code",
   "execution_count": null,
   "id": "eba0444d-6a9f-45c3-85ad-878958ce907d",
   "metadata": {},
   "outputs": [],
   "source": [
    "from population import *"
   ]
  },
  {
   "cell_type": "code",
   "execution_count": null,
   "id": "950d9a8c-630b-4c7f-b69e-6f7df8e7d15c",
   "metadata": {},
   "outputs": [],
   "source": [
    "plt.bar(x_data(),y_data())"
   ]
  },
  {
   "cell_type": "code",
   "execution_count": null,
   "id": "3971255e-127b-4bb9-a89a-c7dd961a87ea",
   "metadata": {},
   "outputs": [],
   "source": [
    "from population import *"
   ]
  },
  {
   "cell_type": "code",
   "execution_count": null,
   "id": "dab0c799-afaf-4c9b-a401-bb8ed7d8dd40",
   "metadata": {},
   "outputs": [],
   "source": [
    "plt.bar(x_data(),y_data())"
   ]
  },
  {
   "cell_type": "code",
   "execution_count": 60,
   "id": "9caecf3b-98a0-4bc9-8ee4-a0f2a7070473",
   "metadata": {},
   "outputs": [
    {
     "data": {
      "text/plain": [
       "<BarContainer object of 7 artists>"
      ]
     },
     "execution_count": 60,
     "metadata": {},
     "output_type": "execute_result"
    },
    {
     "data": {
      "image/png": "[encoded data removed]",
      "text/plain": [
       "<Figure size 640x480 with 1 Axes>"
      ]
     },
     "metadata": {},
     "output_type": "display_data"
    }
   ],
   "source": [
    "plt.bar(x_data(),y_data())"
   ]
  },
  {
   "cell_type": "code",
   "execution_count": 61,
   "id": "d3ef561f-64d4-4258-ab14-b21dafa9a71a",
   "metadata": {},
   "outputs": [],
   "source": [
    "gases=['Nitrogen','oxygen','CO2','Others']"
   ]
  },
  {
   "cell_type": "code",
   "execution_count": 62,
   "id": "0ba9e560-aafc-4d59-9bea-793c4b5d23f8",
   "metadata": {},
   "outputs": [],
   "source": [
    "size=[78.3,20,0.3,1.97]"
   ]
  },
  {
   "cell_type": "code",
   "execution_count": 63,
   "id": "779f99f8-3408-404e-a5a1-e5054711f1c9",
   "metadata": {},
   "outputs": [],
   "source": [
    "colors=['red','green','yellow','orange']"
   ]
  },
  {
   "cell_type": "code",
   "execution_count": 64,
   "id": "5dc51052-3d04-4f09-a26a-e2a80fb7bcc4",
   "metadata": {},
   "outputs": [
    {
     "ename": "NameError",
     "evalue": "name 'explode' is not defined",
     "output_type": "error",
     "traceback": [
      "\u001b[1;31m---------------------------------------------------------------------------\u001b[0m",
      "\u001b[1;31mNameError\u001b[0m                                 Traceback (most recent call last)",
      "Cell \u001b[1;32mIn[64], line 1\u001b[0m\n\u001b[1;32m----> 1\u001b[0m plt\u001b[38;5;241m.\u001b[39mpie(size,\u001b[43mexplode\u001b[49m(\u001b[38;5;241m0\u001b[39m,\u001b[38;5;241m0.1\u001b[39m,\u001b[38;5;241m0\u001b[39m,\u001b[38;5;241m0\u001b[39m),labels\u001b[38;5;241m=\u001b[39mgases,colors\u001b[38;5;241m=\u001b[39mcolors,autopct\u001b[38;5;241m=\u001b[39m\u001b[38;5;124m'\u001b[39m\u001b[38;5;132;01m%1.1f\u001b[39;00m\u001b[38;5;132;01m%%\u001b[39;00m\u001b[38;5;124m'\u001b[39m,shadow\u001b[38;5;241m=\u001b[39m\u001b[38;5;28;01mTrue\u001b[39;00m,startangle\u001b[38;5;241m=\u001b[39m\u001b[38;5;241m140\u001b[39m)\n\u001b[0;32m      2\u001b[0m plt\u001b[38;5;241m.\u001b[39mlegend()\n\u001b[0;32m      3\u001b[0m plt\u001b[38;5;241m.\u001b[39mshow()\n",
      "\u001b[1;31mNameError\u001b[0m: name 'explode' is not defined"
     ]
    }
   ],
   "source": [
    "plt.pie(size,explode(0,0.1,0,0),labels=gases,colors=colors,autopct='%1.1f%%',shadow=True,startangle=140)\n",
    "plt.legend()\n",
    "plt.show()\n",
    "        "
   ]
  },
  {
   "cell_type": "code",
   "execution_count": 65,
   "id": "5714eef2-2e4d-449e-b3ef-19e37a26fed3",
   "metadata": {},
   "outputs": [
    {
     "data": {
      "image/png": "[encoded data removed]",
      "text/plain": [
       "<Figure size 640x480 with 1 Axes>"
      ]
     },
     "metadata": {},
     "output_type": "display_data"
    }
   ],
   "source": [
    "plt.pie(size,explode=(0,0.1,0,0),labels=gases,colors=colors,autopct='%1.1f%%',shadow=True,startangle=140)\n",
    "plt.legend()\n",
    "plt.show()"
   ]
  },
  {
   "cell_type": "code",
   "execution_count": null,
   "id": "1f04bce8-318e-4bf2-b497-d83d16481400",
   "metadata": {},
   "outputs": [],
   "source": []
  }
 ],
 "metadata": {
  "kernelspec": {
   "display_name": "Python 3 (ipykernel)",
   "language": "python",
   "name": "python3"
  },
  "language_info": {
   "codemirror_mode": {
    "name": "ipython",
    "version": 3
   },
   "file_extension": ".py",
   "mimetype": "text/x-python",
   "name": "python",
   "nbconvert_exporter": "python",
   "pygments_lexer": "ipython3",
   "version": "3.12.1"
  }
 },
 "nbformat": 4,
 "nbformat_minor": 5
}
